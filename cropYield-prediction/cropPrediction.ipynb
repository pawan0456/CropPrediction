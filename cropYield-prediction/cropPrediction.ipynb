{
 "cells": [
  {
   "cell_type": "code",
   "execution_count": 1,
   "id": "571ee3e2",
   "metadata": {},
   "outputs": [],
   "source": [
    "import numpy as np\n",
    "import pandas as pd \n",
    "import matplotlib.pyplot as plt \n",
    "import seaborn as sns"
   ]
  },
  {
   "cell_type": "code",
   "execution_count": 2,
   "metadata": {},
   "outputs": [
    {
     "data": {
      "text/html": [
       "<div>\n",
       "<style scoped>\n",
       "    .dataframe tbody tr th:only-of-type {\n",
       "        vertical-align: middle;\n",
       "    }\n",
       "\n",
       "    .dataframe tbody tr th {\n",
       "        vertical-align: top;\n",
       "    }\n",
       "\n",
       "    .dataframe thead th {\n",
       "        text-align: right;\n",
       "    }\n",
       "</style>\n",
       "<table border=\"1\" class=\"dataframe\">\n",
       "  <thead>\n",
       "    <tr style=\"text-align: right;\">\n",
       "      <th></th>\n",
       "      <th>Unnamed: 0</th>\n",
       "      <th>Area</th>\n",
       "      <th>Item</th>\n",
       "      <th>Year</th>\n",
       "      <th>hg/ha_yield</th>\n",
       "      <th>average_rain_fall_mm_per_year</th>\n",
       "      <th>pesticides_tonnes</th>\n",
       "      <th>avg_temp</th>\n",
       "    </tr>\n",
       "  </thead>\n",
       "  <tbody>\n",
       "    <tr>\n",
       "      <th>0</th>\n",
       "      <td>0</td>\n",
       "      <td>Albania</td>\n",
       "      <td>Maize</td>\n",
       "      <td>1990</td>\n",
       "      <td>36613</td>\n",
       "      <td>1485.0</td>\n",
       "      <td>121.0</td>\n",
       "      <td>16.37</td>\n",
       "    </tr>\n",
       "    <tr>\n",
       "      <th>1</th>\n",
       "      <td>1</td>\n",
       "      <td>Albania</td>\n",
       "      <td>Potatoes</td>\n",
       "      <td>1990</td>\n",
       "      <td>66667</td>\n",
       "      <td>1485.0</td>\n",
       "      <td>121.0</td>\n",
       "      <td>16.37</td>\n",
       "    </tr>\n",
       "    <tr>\n",
       "      <th>2</th>\n",
       "      <td>2</td>\n",
       "      <td>Albania</td>\n",
       "      <td>Rice, paddy</td>\n",
       "      <td>1990</td>\n",
       "      <td>23333</td>\n",
       "      <td>1485.0</td>\n",
       "      <td>121.0</td>\n",
       "      <td>16.37</td>\n",
       "    </tr>\n",
       "    <tr>\n",
       "      <th>3</th>\n",
       "      <td>3</td>\n",
       "      <td>Albania</td>\n",
       "      <td>Sorghum</td>\n",
       "      <td>1990</td>\n",
       "      <td>12500</td>\n",
       "      <td>1485.0</td>\n",
       "      <td>121.0</td>\n",
       "      <td>16.37</td>\n",
       "    </tr>\n",
       "    <tr>\n",
       "      <th>4</th>\n",
       "      <td>4</td>\n",
       "      <td>Albania</td>\n",
       "      <td>Soybeans</td>\n",
       "      <td>1990</td>\n",
       "      <td>7000</td>\n",
       "      <td>1485.0</td>\n",
       "      <td>121.0</td>\n",
       "      <td>16.37</td>\n",
       "    </tr>\n",
       "  </tbody>\n",
       "</table>\n",
       "</div>"
      ],
      "text/plain": [
       "   Unnamed: 0     Area         Item  Year  hg/ha_yield  \\\n",
       "0           0  Albania        Maize  1990        36613   \n",
       "1           1  Albania     Potatoes  1990        66667   \n",
       "2           2  Albania  Rice, paddy  1990        23333   \n",
       "3           3  Albania      Sorghum  1990        12500   \n",
       "4           4  Albania     Soybeans  1990         7000   \n",
       "\n",
       "   average_rain_fall_mm_per_year  pesticides_tonnes  avg_temp  \n",
       "0                         1485.0              121.0     16.37  \n",
       "1                         1485.0              121.0     16.37  \n",
       "2                         1485.0              121.0     16.37  \n",
       "3                         1485.0              121.0     16.37  \n",
       "4                         1485.0              121.0     16.37  "
      ]
     },
     "execution_count": 2,
     "metadata": {},
     "output_type": "execute_result"
    }
   ],
   "source": [
    "df = pd.read_csv('yield_df.csv')\n",
    "df.head()"
   ]
  },
  {
   "cell_type": "code",
   "execution_count": 3,
   "metadata": {},
   "outputs": [],
   "source": [
    "df.drop('Unnamed: 0',axis=1,inplace=True)"
   ]
  },
  {
   "cell_type": "code",
   "execution_count": 4,
   "id": "540b095d",
   "metadata": {},
   "outputs": [
    {
     "data": {
      "text/html": [
       "<div>\n",
       "<style scoped>\n",
       "    .dataframe tbody tr th:only-of-type {\n",
       "        vertical-align: middle;\n",
       "    }\n",
       "\n",
       "    .dataframe tbody tr th {\n",
       "        vertical-align: top;\n",
       "    }\n",
       "\n",
       "    .dataframe thead th {\n",
       "        text-align: right;\n",
       "    }\n",
       "</style>\n",
       "<table border=\"1\" class=\"dataframe\">\n",
       "  <thead>\n",
       "    <tr style=\"text-align: right;\">\n",
       "      <th></th>\n",
       "      <th>Area</th>\n",
       "      <th>Item</th>\n",
       "      <th>Year</th>\n",
       "      <th>hg/ha_yield</th>\n",
       "      <th>average_rain_fall_mm_per_year</th>\n",
       "      <th>pesticides_tonnes</th>\n",
       "      <th>avg_temp</th>\n",
       "    </tr>\n",
       "  </thead>\n",
       "  <tbody>\n",
       "    <tr>\n",
       "      <th>0</th>\n",
       "      <td>Albania</td>\n",
       "      <td>Maize</td>\n",
       "      <td>1990</td>\n",
       "      <td>36613</td>\n",
       "      <td>1485.0</td>\n",
       "      <td>121.0</td>\n",
       "      <td>16.37</td>\n",
       "    </tr>\n",
       "    <tr>\n",
       "      <th>1</th>\n",
       "      <td>Albania</td>\n",
       "      <td>Potatoes</td>\n",
       "      <td>1990</td>\n",
       "      <td>66667</td>\n",
       "      <td>1485.0</td>\n",
       "      <td>121.0</td>\n",
       "      <td>16.37</td>\n",
       "    </tr>\n",
       "    <tr>\n",
       "      <th>2</th>\n",
       "      <td>Albania</td>\n",
       "      <td>Rice, paddy</td>\n",
       "      <td>1990</td>\n",
       "      <td>23333</td>\n",
       "      <td>1485.0</td>\n",
       "      <td>121.0</td>\n",
       "      <td>16.37</td>\n",
       "    </tr>\n",
       "    <tr>\n",
       "      <th>3</th>\n",
       "      <td>Albania</td>\n",
       "      <td>Sorghum</td>\n",
       "      <td>1990</td>\n",
       "      <td>12500</td>\n",
       "      <td>1485.0</td>\n",
       "      <td>121.0</td>\n",
       "      <td>16.37</td>\n",
       "    </tr>\n",
       "    <tr>\n",
       "      <th>4</th>\n",
       "      <td>Albania</td>\n",
       "      <td>Soybeans</td>\n",
       "      <td>1990</td>\n",
       "      <td>7000</td>\n",
       "      <td>1485.0</td>\n",
       "      <td>121.0</td>\n",
       "      <td>16.37</td>\n",
       "    </tr>\n",
       "  </tbody>\n",
       "</table>\n",
       "</div>"
      ],
      "text/plain": [
       "      Area         Item  Year  hg/ha_yield  average_rain_fall_mm_per_year  \\\n",
       "0  Albania        Maize  1990        36613                         1485.0   \n",
       "1  Albania     Potatoes  1990        66667                         1485.0   \n",
       "2  Albania  Rice, paddy  1990        23333                         1485.0   \n",
       "3  Albania      Sorghum  1990        12500                         1485.0   \n",
       "4  Albania     Soybeans  1990         7000                         1485.0   \n",
       "\n",
       "   pesticides_tonnes  avg_temp  \n",
       "0              121.0     16.37  \n",
       "1              121.0     16.37  \n",
       "2              121.0     16.37  \n",
       "3              121.0     16.37  \n",
       "4              121.0     16.37  "
      ]
     },
     "execution_count": 4,
     "metadata": {},
     "output_type": "execute_result"
    }
   ],
   "source": [
    "df.head()"
   ]
  },
  {
   "cell_type": "code",
   "execution_count": 5,
   "id": "17a2156b",
   "metadata": {},
   "outputs": [
    {
     "data": {
      "text/plain": [
       "(28242, 7)"
      ]
     },
     "execution_count": 5,
     "metadata": {},
     "output_type": "execute_result"
    }
   ],
   "source": [
    "df.shape"
   ]
  },
  {
   "cell_type": "code",
   "execution_count": 6,
   "id": "ca8db4ce",
   "metadata": {},
   "outputs": [
    {
     "data": {
      "text/plain": [
       "Area                             0\n",
       "Item                             0\n",
       "Year                             0\n",
       "hg/ha_yield                      0\n",
       "average_rain_fall_mm_per_year    0\n",
       "pesticides_tonnes                0\n",
       "avg_temp                         0\n",
       "dtype: int64"
      ]
     },
     "execution_count": 6,
     "metadata": {},
     "output_type": "execute_result"
    }
   ],
   "source": [
    "df.isnull().sum()"
   ]
  },
  {
   "cell_type": "code",
   "execution_count": 7,
   "id": "7ab8ccc1",
   "metadata": {},
   "outputs": [
    {
     "name": "stdout",
     "output_type": "stream",
     "text": [
      "<class 'pandas.core.frame.DataFrame'>\n",
      "RangeIndex: 28242 entries, 0 to 28241\n",
      "Data columns (total 7 columns):\n",
      " #   Column                         Non-Null Count  Dtype  \n",
      "---  ------                         --------------  -----  \n",
      " 0   Area                           28242 non-null  object \n",
      " 1   Item                           28242 non-null  object \n",
      " 2   Year                           28242 non-null  int64  \n",
      " 3   hg/ha_yield                    28242 non-null  int64  \n",
      " 4   average_rain_fall_mm_per_year  28242 non-null  float64\n",
      " 5   pesticides_tonnes              28242 non-null  float64\n",
      " 6   avg_temp                       28242 non-null  float64\n",
      "dtypes: float64(3), int64(2), object(2)\n",
      "memory usage: 1.5+ MB\n"
     ]
    }
   ],
   "source": [
    "df.info()"
   ]
  },
  {
   "cell_type": "code",
   "execution_count": 8,
   "id": "89cde40b",
   "metadata": {},
   "outputs": [
    {
     "data": {
      "text/plain": [
       "np.int64(2310)"
      ]
     },
     "execution_count": 8,
     "metadata": {},
     "output_type": "execute_result"
    }
   ],
   "source": [
    "df.duplicated().sum()"
   ]
  },
  {
   "cell_type": "code",
   "execution_count": 9,
   "id": "532bdc19",
   "metadata": {},
   "outputs": [],
   "source": [
    "df.drop_duplicates(inplace=True)"
   ]
  },
  {
   "cell_type": "code",
   "execution_count": 10,
   "id": "63eaf4d5",
   "metadata": {},
   "outputs": [
    {
     "data": {
      "text/plain": [
       "np.int64(0)"
      ]
     },
     "execution_count": 10,
     "metadata": {},
     "output_type": "execute_result"
    }
   ],
   "source": [
    "df.duplicated().sum()"
   ]
  },
  {
   "cell_type": "code",
   "execution_count": 11,
   "id": "45b53176",
   "metadata": {},
   "outputs": [
    {
     "data": {
      "text/html": [
       "<div>\n",
       "<style scoped>\n",
       "    .dataframe tbody tr th:only-of-type {\n",
       "        vertical-align: middle;\n",
       "    }\n",
       "\n",
       "    .dataframe tbody tr th {\n",
       "        vertical-align: top;\n",
       "    }\n",
       "\n",
       "    .dataframe thead th {\n",
       "        text-align: right;\n",
       "    }\n",
       "</style>\n",
       "<table border=\"1\" class=\"dataframe\">\n",
       "  <thead>\n",
       "    <tr style=\"text-align: right;\">\n",
       "      <th></th>\n",
       "      <th>Year</th>\n",
       "      <th>hg/ha_yield</th>\n",
       "      <th>average_rain_fall_mm_per_year</th>\n",
       "      <th>pesticides_tonnes</th>\n",
       "      <th>avg_temp</th>\n",
       "    </tr>\n",
       "  </thead>\n",
       "  <tbody>\n",
       "    <tr>\n",
       "      <th>count</th>\n",
       "      <td>25932.000000</td>\n",
       "      <td>25932.000000</td>\n",
       "      <td>25932.000000</td>\n",
       "      <td>25932.000000</td>\n",
       "      <td>25932.000000</td>\n",
       "    </tr>\n",
       "    <tr>\n",
       "      <th>mean</th>\n",
       "      <td>2001.556455</td>\n",
       "      <td>76978.132925</td>\n",
       "      <td>1146.836688</td>\n",
       "      <td>34782.573241</td>\n",
       "      <td>20.422251</td>\n",
       "    </tr>\n",
       "    <tr>\n",
       "      <th>std</th>\n",
       "      <td>7.055924</td>\n",
       "      <td>84647.605552</td>\n",
       "      <td>717.391098</td>\n",
       "      <td>57228.568244</td>\n",
       "      <td>6.439402</td>\n",
       "    </tr>\n",
       "    <tr>\n",
       "      <th>min</th>\n",
       "      <td>1990.000000</td>\n",
       "      <td>50.000000</td>\n",
       "      <td>51.000000</td>\n",
       "      <td>0.040000</td>\n",
       "      <td>1.300000</td>\n",
       "    </tr>\n",
       "    <tr>\n",
       "      <th>25%</th>\n",
       "      <td>1995.000000</td>\n",
       "      <td>19996.000000</td>\n",
       "      <td>593.000000</td>\n",
       "      <td>1597.000000</td>\n",
       "      <td>16.580000</td>\n",
       "    </tr>\n",
       "    <tr>\n",
       "      <th>50%</th>\n",
       "      <td>2001.000000</td>\n",
       "      <td>39530.000000</td>\n",
       "      <td>1083.000000</td>\n",
       "      <td>15373.000000</td>\n",
       "      <td>21.420000</td>\n",
       "    </tr>\n",
       "    <tr>\n",
       "      <th>75%</th>\n",
       "      <td>2008.000000</td>\n",
       "      <td>104168.000000</td>\n",
       "      <td>1668.000000</td>\n",
       "      <td>45620.000000</td>\n",
       "      <td>26.060000</td>\n",
       "    </tr>\n",
       "    <tr>\n",
       "      <th>max</th>\n",
       "      <td>2013.000000</td>\n",
       "      <td>501412.000000</td>\n",
       "      <td>3240.000000</td>\n",
       "      <td>367778.000000</td>\n",
       "      <td>30.650000</td>\n",
       "    </tr>\n",
       "  </tbody>\n",
       "</table>\n",
       "</div>"
      ],
      "text/plain": [
       "               Year    hg/ha_yield  average_rain_fall_mm_per_year  \\\n",
       "count  25932.000000   25932.000000                   25932.000000   \n",
       "mean    2001.556455   76978.132925                    1146.836688   \n",
       "std        7.055924   84647.605552                     717.391098   \n",
       "min     1990.000000      50.000000                      51.000000   \n",
       "25%     1995.000000   19996.000000                     593.000000   \n",
       "50%     2001.000000   39530.000000                    1083.000000   \n",
       "75%     2008.000000  104168.000000                    1668.000000   \n",
       "max     2013.000000  501412.000000                    3240.000000   \n",
       "\n",
       "       pesticides_tonnes      avg_temp  \n",
       "count       25932.000000  25932.000000  \n",
       "mean        34782.573241     20.422251  \n",
       "std         57228.568244      6.439402  \n",
       "min             0.040000      1.300000  \n",
       "25%          1597.000000     16.580000  \n",
       "50%         15373.000000     21.420000  \n",
       "75%         45620.000000     26.060000  \n",
       "max        367778.000000     30.650000  "
      ]
     },
     "execution_count": 11,
     "metadata": {},
     "output_type": "execute_result"
    }
   ],
   "source": [
    "df.describe()"
   ]
  },
  {
   "cell_type": "code",
   "execution_count": 12,
   "id": "a11ae4ee",
   "metadata": {},
   "outputs": [
    {
     "name": "stdout",
     "output_type": "stream",
     "text": [
      "0        1485.0\n",
      "1        1485.0\n",
      "2        1485.0\n",
      "3        1485.0\n",
      "4        1485.0\n",
      "          ...  \n",
      "28237     657.0\n",
      "28238     657.0\n",
      "28239     657.0\n",
      "28240     657.0\n",
      "28241     657.0\n",
      "Name: average_rain_fall_mm_per_year, Length: 25932, dtype: float64\n"
     ]
    }
   ],
   "source": [
    "if 'average_rain_fall_mm_per_year' in df.columns:\n",
    "    print(df['average_rain_fall_mm_per_year'])\n",
    "else:\n",
    "    print(\"Column not exist.\")"
   ]
  },
  {
   "cell_type": "code",
   "execution_count": 13,
   "id": "f4863f59",
   "metadata": {},
   "outputs": [],
   "source": [
    "def isStr(obj):\n",
    "    try:\n",
    "        float(obj)\n",
    "    except:\n",
    "        return True    "
   ]
  },
  {
   "cell_type": "code",
   "execution_count": 14,
   "id": "7fb9c056",
   "metadata": {},
   "outputs": [
    {
     "name": "stderr",
     "output_type": "stream",
     "text": [
      "C:\\Users\\pawan\\AppData\\Local\\Temp\\ipykernel_9612\\3075464932.py:1: FutureWarning: Downcasting object dtype arrays on .fillna, .ffill, .bfill is deprecated and will change in a future version. Call result.infer_objects(copy=False) instead. To opt-in to the future behavior, set `pd.set_option('future.no_silent_downcasting', True)`\n",
      "  to_drop = df[df['average_rain_fall_mm_per_year'].apply(isStr).fillna(False)].index\n"
     ]
    }
   ],
   "source": [
    "to_drop = df[df['average_rain_fall_mm_per_year'].apply(isStr).fillna(False)].index"
   ]
  },
  {
   "cell_type": "code",
   "execution_count": 15,
   "id": "8f3f5911",
   "metadata": {},
   "outputs": [],
   "source": [
    "df=df.drop(to_drop)"
   ]
  },
  {
   "cell_type": "code",
   "execution_count": 16,
   "id": "bc06b248",
   "metadata": {},
   "outputs": [
    {
     "data": {
      "text/html": [
       "<div>\n",
       "<style scoped>\n",
       "    .dataframe tbody tr th:only-of-type {\n",
       "        vertical-align: middle;\n",
       "    }\n",
       "\n",
       "    .dataframe tbody tr th {\n",
       "        vertical-align: top;\n",
       "    }\n",
       "\n",
       "    .dataframe thead th {\n",
       "        text-align: right;\n",
       "    }\n",
       "</style>\n",
       "<table border=\"1\" class=\"dataframe\">\n",
       "  <thead>\n",
       "    <tr style=\"text-align: right;\">\n",
       "      <th></th>\n",
       "      <th>Area</th>\n",
       "      <th>Item</th>\n",
       "      <th>Year</th>\n",
       "      <th>hg/ha_yield</th>\n",
       "      <th>average_rain_fall_mm_per_year</th>\n",
       "      <th>pesticides_tonnes</th>\n",
       "      <th>avg_temp</th>\n",
       "    </tr>\n",
       "  </thead>\n",
       "  <tbody>\n",
       "    <tr>\n",
       "      <th>0</th>\n",
       "      <td>Albania</td>\n",
       "      <td>Maize</td>\n",
       "      <td>1990</td>\n",
       "      <td>36613</td>\n",
       "      <td>1485.0</td>\n",
       "      <td>121.0</td>\n",
       "      <td>16.37</td>\n",
       "    </tr>\n",
       "    <tr>\n",
       "      <th>1</th>\n",
       "      <td>Albania</td>\n",
       "      <td>Potatoes</td>\n",
       "      <td>1990</td>\n",
       "      <td>66667</td>\n",
       "      <td>1485.0</td>\n",
       "      <td>121.0</td>\n",
       "      <td>16.37</td>\n",
       "    </tr>\n",
       "    <tr>\n",
       "      <th>2</th>\n",
       "      <td>Albania</td>\n",
       "      <td>Rice, paddy</td>\n",
       "      <td>1990</td>\n",
       "      <td>23333</td>\n",
       "      <td>1485.0</td>\n",
       "      <td>121.0</td>\n",
       "      <td>16.37</td>\n",
       "    </tr>\n",
       "    <tr>\n",
       "      <th>3</th>\n",
       "      <td>Albania</td>\n",
       "      <td>Sorghum</td>\n",
       "      <td>1990</td>\n",
       "      <td>12500</td>\n",
       "      <td>1485.0</td>\n",
       "      <td>121.0</td>\n",
       "      <td>16.37</td>\n",
       "    </tr>\n",
       "    <tr>\n",
       "      <th>4</th>\n",
       "      <td>Albania</td>\n",
       "      <td>Soybeans</td>\n",
       "      <td>1990</td>\n",
       "      <td>7000</td>\n",
       "      <td>1485.0</td>\n",
       "      <td>121.0</td>\n",
       "      <td>16.37</td>\n",
       "    </tr>\n",
       "  </tbody>\n",
       "</table>\n",
       "</div>"
      ],
      "text/plain": [
       "      Area         Item  Year  hg/ha_yield  average_rain_fall_mm_per_year  \\\n",
       "0  Albania        Maize  1990        36613                         1485.0   \n",
       "1  Albania     Potatoes  1990        66667                         1485.0   \n",
       "2  Albania  Rice, paddy  1990        23333                         1485.0   \n",
       "3  Albania      Sorghum  1990        12500                         1485.0   \n",
       "4  Albania     Soybeans  1990         7000                         1485.0   \n",
       "\n",
       "   pesticides_tonnes  avg_temp  \n",
       "0              121.0     16.37  \n",
       "1              121.0     16.37  \n",
       "2              121.0     16.37  \n",
       "3              121.0     16.37  \n",
       "4              121.0     16.37  "
      ]
     },
     "execution_count": 16,
     "metadata": {},
     "output_type": "execute_result"
    }
   ],
   "source": [
    "df.head()"
   ]
  },
  {
   "cell_type": "code",
   "execution_count": 17,
   "id": "93d340f9",
   "metadata": {},
   "outputs": [],
   "source": [
    "df['average_rain_fall_mm_per_year']=df['average_rain_fall_mm_per_year'].astype(np.float64)"
   ]
  },
  {
   "cell_type": "code",
   "execution_count": 18,
   "id": "c2759b94",
   "metadata": {},
   "outputs": [
    {
     "data": {
      "text/plain": [
       "<Axes: xlabel='count', ylabel='Area'>"
      ]
     },
     "execution_count": 18,
     "metadata": {},
     "output_type": "execute_result"
    },
    {
     "data": {
      "image/png": "[encoded data removed]",
      "text/plain": [
       "<Figure size 1000x2000 with 1 Axes>"
      ]
     },
     "metadata": {},
     "output_type": "display_data"
    }
   ],
   "source": [
    "plt.figure(figsize=(10,20))\n",
    "sns.countplot(y=df['Area'])"
   ]
  },
  {
   "cell_type": "code",
   "execution_count": 19,
   "id": "3cd799a2",
   "metadata": {},
   "outputs": [],
   "source": [
    "country=len(df['Area'].unique())\n"
   ]
  },
  {
   "cell_type": "code",
   "execution_count": 20,
   "id": "42aea3c7",
   "metadata": {},
   "outputs": [],
   "source": [
    "yield_per_country = []\n",
    "for state in df['Area'].unique():\n",
    "    yield_per_country.append(df[df['Area'] == state]['hg/ha_yield'].sum())"
   ]
  },
  {
   "cell_type": "code",
   "execution_count": 21,
   "id": "22ace294",
   "metadata": {},
   "outputs": [
    {
     "data": {
      "text/plain": [
       "np.int64(1996196943)"
      ]
     },
     "execution_count": 21,
     "metadata": {},
     "output_type": "execute_result"
    }
   ],
   "source": [
    "df['hg/ha_yield'].sum()"
   ]
  },
  {
   "cell_type": "code",
   "execution_count": 22,
   "id": "12cd377d",
   "metadata": {},
   "outputs": [
    {
     "data": {
      "text/plain": [
       "[np.int64(5711536),\n",
       " np.int64(6711464),\n",
       " np.int64(5722563),\n",
       " np.int64(32864032),\n",
       " np.int64(4524100),\n",
       " np.int64(109111062),\n",
       " np.int64(10852258),\n",
       " np.int64(4608380),\n",
       " np.int64(4384717),\n",
       " np.int64(4443889),\n",
       " np.int64(7720159),\n",
       " np.int64(4704812),\n",
       " np.int64(8442270),\n",
       " np.int64(470651),\n",
       " np.int64(136340329),\n",
       " np.int64(6263075),\n",
       " np.int64(6083337),\n",
       " np.int64(7031146),\n",
       " np.int64(10717883),\n",
       " np.int64(34706922),\n",
       " np.int64(4255627),\n",
       " np.int64(20561214),\n",
       " np.int64(26927138),\n",
       " np.int64(6083167),\n",
       " np.int64(10701651),\n",
       " np.int64(25312166),\n",
       " np.int64(21315591),\n",
       " np.int64(36828848),\n",
       " np.int64(16855944),\n",
       " np.int64(1452416),\n",
       " np.int64(3595638),\n",
       " np.int64(6210668),\n",
       " np.int64(15790618),\n",
       " np.int64(38780463),\n",
       " np.int64(9260371),\n",
       " np.int64(14571925),\n",
       " np.int64(16508723),\n",
       " np.int64(7975743),\n",
       " np.int64(8361103),\n",
       " np.int64(8619194),\n",
       " np.int64(10920131),\n",
       " np.int64(8824110),\n",
       " np.int64(274219558),\n",
       " np.int64(68067328),\n",
       " np.int64(10984722),\n",
       " np.int64(9104030),\n",
       " np.int64(32280700),\n",
       " np.int64(19698007),\n",
       " np.int64(100924145),\n",
       " np.int64(9965212),\n",
       " np.int64(14391737),\n",
       " np.int64(3698588),\n",
       " np.int64(6956804),\n",
       " np.int64(4258932),\n",
       " np.int64(9016288),\n",
       " np.int64(4174348),\n",
       " np.int64(6103523),\n",
       " np.int64(8346715),\n",
       " np.int64(7934982),\n",
       " np.int64(15106720),\n",
       " np.int64(4465841),\n",
       " np.int64(12684212),\n",
       " np.int64(113698872),\n",
       " np.int64(1645100),\n",
       " np.int64(22173010),\n",
       " np.int64(6964027),\n",
       " np.int64(3165475),\n",
       " np.int64(4113713),\n",
       " np.int64(14086433),\n",
       " np.int64(17657728),\n",
       " np.int64(12819227),\n",
       " np.int64(12316327),\n",
       " np.int64(6721305),\n",
       " np.int64(49264956),\n",
       " np.int64(10729929),\n",
       " np.int64(15201910),\n",
       " np.int64(6564711),\n",
       " np.int64(12154347),\n",
       " np.int64(5995626),\n",
       " np.int64(6006156),\n",
       " np.int64(7741053),\n",
       " np.int64(15171886),\n",
       " np.int64(10342677),\n",
       " np.int64(7197013),\n",
       " np.int64(30999849),\n",
       " np.int64(46773540),\n",
       " np.int64(11217741),\n",
       " np.int64(1896346),\n",
       " np.int64(14786468),\n",
       " np.int64(8620653),\n",
       " np.int64(13336346),\n",
       " np.int64(6295210),\n",
       " np.int64(9511720),\n",
       " np.int64(3724246),\n",
       " np.int64(52263950),\n",
       " np.int64(7494314),\n",
       " np.int64(5496901),\n",
       " np.int64(44335992),\n",
       " np.int64(9539820),\n",
       " np.int64(7254311),\n",
       " np.int64(7408629)]"
      ]
     },
     "execution_count": 22,
     "metadata": {},
     "output_type": "execute_result"
    }
   ],
   "source": [
    "yield_per_country"
   ]
  },
  {
   "cell_type": "code",
   "execution_count": 23,
   "id": "a8ee7881",
   "metadata": {},
   "outputs": [
    {
     "data": {
      "text/plain": [
       "<Axes: >"
      ]
     },
     "execution_count": 23,
     "metadata": {},
     "output_type": "execute_result"
    },
    {
     "data": {
      "image/png": "[encoded data removed]",
      "text/plain": [
       "<Figure size 1000x2000 with 1 Axes>"
      ]
     },
     "metadata": {},
     "output_type": "display_data"
    }
   ],
   "source": [
    "plt.figure(figsize=(10, 20))\n",
    "sns.barplot(y=country, x=yield_per_country)"
   ]
  },
  {
   "cell_type": "code",
   "execution_count": 24,
   "id": "5846d7f7",
   "metadata": {},
   "outputs": [
    {
     "data": {
      "text/plain": [
       "<Axes: xlabel='count', ylabel='Item'>"
      ]
     },
     "execution_count": 24,
     "metadata": {},
     "output_type": "execute_result"
    },
    {
     "data": {
      "image/png": "[encoded data removed]",
      "text/plain": [
       "<Figure size 640x480 with 1 Axes>"
      ]
     },
     "metadata": {},
     "output_type": "display_data"
    }
   ],
   "source": [
    "sns.countplot(y=df['Item'])"
   ]
  },
  {
   "cell_type": "code",
   "execution_count": 25,
   "id": "f98dc80d",
   "metadata": {},
   "outputs": [],
   "source": [
    "crops=(df['Item'].unique())"
   ]
  },
  {
   "cell_type": "code",
   "execution_count": 26,
   "id": "913b9b63",
   "metadata": {},
   "outputs": [],
   "source": [
    "yield_per_country = []\n",
    "for crop in crops:\n",
    "    yield_per_country.append(df[df['Item'] == crop]['hg/ha_yield'].sum())"
   ]
  },
  {
   "cell_type": "code",
   "execution_count": 27,
   "id": "bcbb8c4c",
   "metadata": {},
   "outputs": [
    {
     "data": {
      "text/plain": [
       "[np.int64(142020761),\n",
       " np.int64(785921609),\n",
       " np.int64(127646024),\n",
       " np.int64(52906376),\n",
       " np.int64(49957039),\n",
       " np.int64(106614786),\n",
       " np.int64(275132269),\n",
       " np.int64(310269345),\n",
       " np.int64(58958974),\n",
       " np.int64(86769760)]"
      ]
     },
     "execution_count": 27,
     "metadata": {},
     "output_type": "execute_result"
    }
   ],
   "source": [
    "yield_per_country"
   ]
  },
  {
   "cell_type": "code",
   "execution_count": 28,
   "id": "b7aa071a",
   "metadata": {},
   "outputs": [
    {
     "data": {
      "text/html": [
       "<div>\n",
       "<style scoped>\n",
       "    .dataframe tbody tr th:only-of-type {\n",
       "        vertical-align: middle;\n",
       "    }\n",
       "\n",
       "    .dataframe tbody tr th {\n",
       "        vertical-align: top;\n",
       "    }\n",
       "\n",
       "    .dataframe thead th {\n",
       "        text-align: right;\n",
       "    }\n",
       "</style>\n",
       "<table border=\"1\" class=\"dataframe\">\n",
       "  <thead>\n",
       "    <tr style=\"text-align: right;\">\n",
       "      <th></th>\n",
       "      <th>Area</th>\n",
       "      <th>Item</th>\n",
       "      <th>Year</th>\n",
       "      <th>hg/ha_yield</th>\n",
       "      <th>average_rain_fall_mm_per_year</th>\n",
       "      <th>pesticides_tonnes</th>\n",
       "      <th>avg_temp</th>\n",
       "    </tr>\n",
       "  </thead>\n",
       "  <tbody>\n",
       "    <tr>\n",
       "      <th>0</th>\n",
       "      <td>Albania</td>\n",
       "      <td>Maize</td>\n",
       "      <td>1990</td>\n",
       "      <td>36613</td>\n",
       "      <td>1485.0</td>\n",
       "      <td>121.00</td>\n",
       "      <td>16.37</td>\n",
       "    </tr>\n",
       "    <tr>\n",
       "      <th>1</th>\n",
       "      <td>Albania</td>\n",
       "      <td>Potatoes</td>\n",
       "      <td>1990</td>\n",
       "      <td>66667</td>\n",
       "      <td>1485.0</td>\n",
       "      <td>121.00</td>\n",
       "      <td>16.37</td>\n",
       "    </tr>\n",
       "    <tr>\n",
       "      <th>2</th>\n",
       "      <td>Albania</td>\n",
       "      <td>Rice, paddy</td>\n",
       "      <td>1990</td>\n",
       "      <td>23333</td>\n",
       "      <td>1485.0</td>\n",
       "      <td>121.00</td>\n",
       "      <td>16.37</td>\n",
       "    </tr>\n",
       "    <tr>\n",
       "      <th>3</th>\n",
       "      <td>Albania</td>\n",
       "      <td>Sorghum</td>\n",
       "      <td>1990</td>\n",
       "      <td>12500</td>\n",
       "      <td>1485.0</td>\n",
       "      <td>121.00</td>\n",
       "      <td>16.37</td>\n",
       "    </tr>\n",
       "    <tr>\n",
       "      <th>4</th>\n",
       "      <td>Albania</td>\n",
       "      <td>Soybeans</td>\n",
       "      <td>1990</td>\n",
       "      <td>7000</td>\n",
       "      <td>1485.0</td>\n",
       "      <td>121.00</td>\n",
       "      <td>16.37</td>\n",
       "    </tr>\n",
       "    <tr>\n",
       "      <th>...</th>\n",
       "      <td>...</td>\n",
       "      <td>...</td>\n",
       "      <td>...</td>\n",
       "      <td>...</td>\n",
       "      <td>...</td>\n",
       "      <td>...</td>\n",
       "      <td>...</td>\n",
       "    </tr>\n",
       "    <tr>\n",
       "      <th>28237</th>\n",
       "      <td>Zimbabwe</td>\n",
       "      <td>Rice, paddy</td>\n",
       "      <td>2013</td>\n",
       "      <td>22581</td>\n",
       "      <td>657.0</td>\n",
       "      <td>2550.07</td>\n",
       "      <td>19.76</td>\n",
       "    </tr>\n",
       "    <tr>\n",
       "      <th>28238</th>\n",
       "      <td>Zimbabwe</td>\n",
       "      <td>Sorghum</td>\n",
       "      <td>2013</td>\n",
       "      <td>3066</td>\n",
       "      <td>657.0</td>\n",
       "      <td>2550.07</td>\n",
       "      <td>19.76</td>\n",
       "    </tr>\n",
       "    <tr>\n",
       "      <th>28239</th>\n",
       "      <td>Zimbabwe</td>\n",
       "      <td>Soybeans</td>\n",
       "      <td>2013</td>\n",
       "      <td>13142</td>\n",
       "      <td>657.0</td>\n",
       "      <td>2550.07</td>\n",
       "      <td>19.76</td>\n",
       "    </tr>\n",
       "    <tr>\n",
       "      <th>28240</th>\n",
       "      <td>Zimbabwe</td>\n",
       "      <td>Sweet potatoes</td>\n",
       "      <td>2013</td>\n",
       "      <td>22222</td>\n",
       "      <td>657.0</td>\n",
       "      <td>2550.07</td>\n",
       "      <td>19.76</td>\n",
       "    </tr>\n",
       "    <tr>\n",
       "      <th>28241</th>\n",
       "      <td>Zimbabwe</td>\n",
       "      <td>Wheat</td>\n",
       "      <td>2013</td>\n",
       "      <td>22888</td>\n",
       "      <td>657.0</td>\n",
       "      <td>2550.07</td>\n",
       "      <td>19.76</td>\n",
       "    </tr>\n",
       "  </tbody>\n",
       "</table>\n",
       "<p>25932 rows × 7 columns</p>\n",
       "</div>"
      ],
      "text/plain": [
       "           Area            Item  Year  hg/ha_yield  \\\n",
       "0       Albania           Maize  1990        36613   \n",
       "1       Albania        Potatoes  1990        66667   \n",
       "2       Albania     Rice, paddy  1990        23333   \n",
       "3       Albania         Sorghum  1990        12500   \n",
       "4       Albania        Soybeans  1990         7000   \n",
       "...         ...             ...   ...          ...   \n",
       "28237  Zimbabwe     Rice, paddy  2013        22581   \n",
       "28238  Zimbabwe         Sorghum  2013         3066   \n",
       "28239  Zimbabwe        Soybeans  2013        13142   \n",
       "28240  Zimbabwe  Sweet potatoes  2013        22222   \n",
       "28241  Zimbabwe           Wheat  2013        22888   \n",
       "\n",
       "       average_rain_fall_mm_per_year  pesticides_tonnes  avg_temp  \n",
       "0                             1485.0             121.00     16.37  \n",
       "1                             1485.0             121.00     16.37  \n",
       "2                             1485.0             121.00     16.37  \n",
       "3                             1485.0             121.00     16.37  \n",
       "4                             1485.0             121.00     16.37  \n",
       "...                              ...                ...       ...  \n",
       "28237                          657.0            2550.07     19.76  \n",
       "28238                          657.0            2550.07     19.76  \n",
       "28239                          657.0            2550.07     19.76  \n",
       "28240                          657.0            2550.07     19.76  \n",
       "28241                          657.0            2550.07     19.76  \n",
       "\n",
       "[25932 rows x 7 columns]"
      ]
     },
     "execution_count": 28,
     "metadata": {},
     "output_type": "execute_result"
    }
   ],
   "source": [
    "df"
   ]
  },
  {
   "cell_type": "code",
   "execution_count": 29,
   "id": "3fdb7e1e",
   "metadata": {},
   "outputs": [],
   "source": [
    "col = ['Year', 'average_rain_fall_mm_per_year','pesticides_tonnes', 'avg_temp', 'Area', 'Item', 'hg/ha_yield']\n",
    "df = df[col]\n",
    "X = df.iloc[:, :-1]\n",
    "y = df.iloc[:, -1]"
   ]
  },
  {
   "cell_type": "code",
   "execution_count": 30,
   "metadata": {},
   "outputs": [
    {
     "data": {
      "text/html": [
       "<div>\n",
       "<style scoped>\n",
       "    .dataframe tbody tr th:only-of-type {\n",
       "        vertical-align: middle;\n",
       "    }\n",
       "\n",
       "    .dataframe tbody tr th {\n",
       "        vertical-align: top;\n",
       "    }\n",
       "\n",
       "    .dataframe thead th {\n",
       "        text-align: right;\n",
       "    }\n",
       "</style>\n",
       "<table border=\"1\" class=\"dataframe\">\n",
       "  <thead>\n",
       "    <tr style=\"text-align: right;\">\n",
       "      <th></th>\n",
       "      <th>Year</th>\n",
       "      <th>average_rain_fall_mm_per_year</th>\n",
       "      <th>pesticides_tonnes</th>\n",
       "      <th>avg_temp</th>\n",
       "      <th>Area</th>\n",
       "      <th>Item</th>\n",
       "      <th>hg/ha_yield</th>\n",
       "    </tr>\n",
       "  </thead>\n",
       "  <tbody>\n",
       "    <tr>\n",
       "      <th>0</th>\n",
       "      <td>1990</td>\n",
       "      <td>1485.0</td>\n",
       "      <td>121.0</td>\n",
       "      <td>16.37</td>\n",
       "      <td>Albania</td>\n",
       "      <td>Maize</td>\n",
       "      <td>36613</td>\n",
       "    </tr>\n",
       "    <tr>\n",
       "      <th>1</th>\n",
       "      <td>1990</td>\n",
       "      <td>1485.0</td>\n",
       "      <td>121.0</td>\n",
       "      <td>16.37</td>\n",
       "      <td>Albania</td>\n",
       "      <td>Potatoes</td>\n",
       "      <td>66667</td>\n",
       "    </tr>\n",
       "    <tr>\n",
       "      <th>2</th>\n",
       "      <td>1990</td>\n",
       "      <td>1485.0</td>\n",
       "      <td>121.0</td>\n",
       "      <td>16.37</td>\n",
       "      <td>Albania</td>\n",
       "      <td>Rice, paddy</td>\n",
       "      <td>23333</td>\n",
       "    </tr>\n",
       "  </tbody>\n",
       "</table>\n",
       "</div>"
      ],
      "text/plain": [
       "   Year  average_rain_fall_mm_per_year  pesticides_tonnes  avg_temp     Area  \\\n",
       "0  1990                         1485.0              121.0     16.37  Albania   \n",
       "1  1990                         1485.0              121.0     16.37  Albania   \n",
       "2  1990                         1485.0              121.0     16.37  Albania   \n",
       "\n",
       "          Item  hg/ha_yield  \n",
       "0        Maize        36613  \n",
       "1     Potatoes        66667  \n",
       "2  Rice, paddy        23333  "
      ]
     },
     "execution_count": 30,
     "metadata": {},
     "output_type": "execute_result"
    }
   ],
   "source": [
    "df.head(3)"
   ]
  },
  {
   "cell_type": "code",
   "execution_count": 31,
   "id": "e3699c81",
   "metadata": {},
   "outputs": [],
   "source": [
    "from sklearn.model_selection import train_test_split\n",
    "X_train, X_test, y_train, y_test = train_test_split(X, y, train_size=0.8, random_state=0, shuffle=True)"
   ]
  },
  {
   "cell_type": "code",
   "execution_count": 32,
   "id": "a13998c0",
   "metadata": {},
   "outputs": [],
   "source": [
    "from sklearn.preprocessing import OneHotEncoder\n",
    "from sklearn.compose import ColumnTransformer\n",
    "from sklearn.preprocessing import StandardScaler\n",
    "ohe = OneHotEncoder(drop='first')\n",
    "scale = StandardScaler()\n",
    "\n",
    "preprocesser = ColumnTransformer(\n",
    "        transformers = [\n",
    "            ('StandardScale', scale, [0, 1, 2, 3]),\n",
    "            ('OHE', ohe, [4, 5]),\n",
    "        ],\n",
    "        remainder='passthrough'\n",
    ")"
   ]
  },
  {
   "cell_type": "code",
   "execution_count": 33,
   "id": "8b25e93c",
   "metadata": {},
   "outputs": [],
   "source": [
    "X_train_dummy = preprocesser.fit_transform(X_train)\n",
    "X_test_dummy = preprocesser.transform(X_test)"
   ]
  },
  {
   "cell_type": "code",
   "execution_count": 34,
   "id": "f2d1dbda",
   "metadata": {},
   "outputs": [
    {
     "data": {
      "text/plain": [
       "array(['StandardScale__Year',\n",
       "       'StandardScale__average_rain_fall_mm_per_year',\n",
       "       'StandardScale__pesticides_tonnes', 'StandardScale__avg_temp',\n",
       "       'OHE__Area_Algeria', 'OHE__Area_Angola', 'OHE__Area_Argentina',\n",
       "       'OHE__Area_Armenia', 'OHE__Area_Australia', 'OHE__Area_Austria',\n",
       "       'OHE__Area_Azerbaijan', 'OHE__Area_Bahamas', 'OHE__Area_Bahrain',\n",
       "       'OHE__Area_Bangladesh', 'OHE__Area_Belarus', 'OHE__Area_Belgium',\n",
       "       'OHE__Area_Botswana', 'OHE__Area_Brazil', 'OHE__Area_Bulgaria',\n",
       "       'OHE__Area_Burkina Faso', 'OHE__Area_Burundi',\n",
       "       'OHE__Area_Cameroon', 'OHE__Area_Canada',\n",
       "       'OHE__Area_Central African Republic', 'OHE__Area_Chile',\n",
       "       'OHE__Area_Colombia', 'OHE__Area_Croatia', 'OHE__Area_Denmark',\n",
       "       'OHE__Area_Dominican Republic', 'OHE__Area_Ecuador',\n",
       "       'OHE__Area_Egypt', 'OHE__Area_El Salvador', 'OHE__Area_Eritrea',\n",
       "       'OHE__Area_Estonia', 'OHE__Area_Finland', 'OHE__Area_France',\n",
       "       'OHE__Area_Germany', 'OHE__Area_Ghana', 'OHE__Area_Greece',\n",
       "       'OHE__Area_Guatemala', 'OHE__Area_Guinea', 'OHE__Area_Guyana',\n",
       "       'OHE__Area_Haiti', 'OHE__Area_Honduras', 'OHE__Area_Hungary',\n",
       "       'OHE__Area_India', 'OHE__Area_Indonesia', 'OHE__Area_Iraq',\n",
       "       'OHE__Area_Ireland', 'OHE__Area_Italy', 'OHE__Area_Jamaica',\n",
       "       'OHE__Area_Japan', 'OHE__Area_Kazakhstan', 'OHE__Area_Kenya',\n",
       "       'OHE__Area_Latvia', 'OHE__Area_Lebanon', 'OHE__Area_Lesotho',\n",
       "       'OHE__Area_Libya', 'OHE__Area_Lithuania', 'OHE__Area_Madagascar',\n",
       "       'OHE__Area_Malawi', 'OHE__Area_Malaysia', 'OHE__Area_Mali',\n",
       "       'OHE__Area_Mauritania', 'OHE__Area_Mauritius', 'OHE__Area_Mexico',\n",
       "       'OHE__Area_Montenegro', 'OHE__Area_Morocco',\n",
       "       'OHE__Area_Mozambique', 'OHE__Area_Namibia', 'OHE__Area_Nepal',\n",
       "       'OHE__Area_Netherlands', 'OHE__Area_New Zealand',\n",
       "       'OHE__Area_Nicaragua', 'OHE__Area_Niger', 'OHE__Area_Norway',\n",
       "       'OHE__Area_Pakistan', 'OHE__Area_Papua New Guinea',\n",
       "       'OHE__Area_Peru', 'OHE__Area_Poland', 'OHE__Area_Portugal',\n",
       "       'OHE__Area_Qatar', 'OHE__Area_Romania', 'OHE__Area_Rwanda',\n",
       "       'OHE__Area_Saudi Arabia', 'OHE__Area_Senegal',\n",
       "       'OHE__Area_Slovenia', 'OHE__Area_South Africa', 'OHE__Area_Spain',\n",
       "       'OHE__Area_Sri Lanka', 'OHE__Area_Sudan', 'OHE__Area_Suriname',\n",
       "       'OHE__Area_Sweden', 'OHE__Area_Switzerland',\n",
       "       'OHE__Area_Tajikistan', 'OHE__Area_Thailand', 'OHE__Area_Tunisia',\n",
       "       'OHE__Area_Turkey', 'OHE__Area_Uganda', 'OHE__Area_Ukraine',\n",
       "       'OHE__Area_United Kingdom', 'OHE__Area_Uruguay',\n",
       "       'OHE__Area_Zambia', 'OHE__Area_Zimbabwe', 'OHE__Item_Maize',\n",
       "       'OHE__Item_Plantains and others', 'OHE__Item_Potatoes',\n",
       "       'OHE__Item_Rice, paddy', 'OHE__Item_Sorghum', 'OHE__Item_Soybeans',\n",
       "       'OHE__Item_Sweet potatoes', 'OHE__Item_Wheat', 'OHE__Item_Yams'],\n",
       "      dtype=object)"
      ]
     },
     "execution_count": 34,
     "metadata": {},
     "output_type": "execute_result"
    }
   ],
   "source": [
    "preprocesser.get_feature_names_out(col[:-1])"
   ]
  },
  {
   "cell_type": "code",
   "execution_count": 35,
   "id": "f2317412",
   "metadata": {},
   "outputs": [
    {
     "name": "stdout",
     "output_type": "stream",
     "text": [
      "lr : mae : 29907.512750141068 score : 0.747311978017039\n"
     ]
    },
    {
     "name": "stderr",
     "output_type": "stream",
     "text": [
      "c:\\Users\\pawan\\anaconda3\\envs\\myenv\\Lib\\site-packages\\sklearn\\linear_model\\_coordinate_descent.py:656: ConvergenceWarning: Objective did not converge. You might want to increase the number of iterations, check the scale of the features or consider increasing regularisation. Duality gap: 6.728e+10, tolerance: 1.485e+10\n",
      "  model = cd_fast.sparse_enet_coordinate_descent(\n"
     ]
    },
    {
     "name": "stdout",
     "output_type": "stream",
     "text": [
      "lss : mae : 29893.997624507076 score : 0.7473261756207168\n",
      "Rid : mae : 29864.85261093375 score : 0.747304064196457\n",
      "Dtr : mae : 3940.910160015423 score : 0.9792651656811875\n"
     ]
    }
   ],
   "source": [
    "#linear regression\n",
    "from sklearn.linear_model import LinearRegression,Lasso,Ridge\n",
    "from sklearn.neighbors import KNeighborsRegressor\n",
    "from sklearn.tree import DecisionTreeRegressor\n",
    "from sklearn.metrics import mean_absolute_error,r2_score\n",
    "\n",
    "\n",
    "models = {\n",
    "    'lr':LinearRegression(),\n",
    "    'lss':Lasso(),\n",
    "    'Rid':Ridge(),\n",
    "    'Dtr':DecisionTreeRegressor()\n",
    "}\n",
    "for name, md in models.items():\n",
    "    md.fit(X_train_dummy,y_train)\n",
    "    y_pred = md.predict(X_test_dummy)\n",
    "    \n",
    "    print(f\"{name} : mae : {mean_absolute_error(y_test,y_pred)} score : {r2_score(y_test,y_pred)}\")"
   ]
  },
  {
   "cell_type": "code",
   "execution_count": 36,
   "id": "4686c1bc",
   "metadata": {},
   "outputs": [
    {
     "data": {
      "text/plain": [
       "array([35286., 22814., 19295., ..., 23035., 34879., 79048.], shape=(5187,))"
      ]
     },
     "execution_count": 36,
     "metadata": {},
     "output_type": "execute_result"
    }
   ],
   "source": [
    "dtr = DecisionTreeRegressor()\n",
    "dtr.fit(X_train_dummy,y_train)\n",
    "dtr.predict(X_test_dummy)"
   ]
  },
  {
   "cell_type": "code",
   "execution_count": 37,
   "id": "46869bbd",
   "metadata": {},
   "outputs": [
    {
     "name": "stderr",
     "output_type": "stream",
     "text": [
      "c:\\Users\\pawan\\anaconda3\\envs\\myenv\\Lib\\site-packages\\sklearn\\utils\\validation.py:2749: UserWarning: X does not have valid feature names, but StandardScaler was fitted with feature names\n",
      "  warnings.warn(\n",
      "c:\\Users\\pawan\\anaconda3\\envs\\myenv\\Lib\\site-packages\\sklearn\\utils\\validation.py:2749: UserWarning: X does not have valid feature names, but OneHotEncoder was fitted with feature names\n",
      "  warnings.warn(\n"
     ]
    }
   ],
   "source": [
    "def prediction(Year, average_rain_fall_mm_per_year, pesticides_tonnes, avg_temp, Area, Item):\n",
    "    # Create an array of the input features\n",
    "    features = np.array([[Year, average_rain_fall_mm_per_year, pesticides_tonnes, avg_temp, Area, Item]], dtype=object)\n",
    "\n",
    "    # Transform the features using the preprocessor\n",
    "    transformed_features = preprocesser.transform(features)\n",
    "\n",
    "    # Make the prediction\n",
    "    predicted_yield = dtr.predict(transformed_features).reshape(1, -1)\n",
    "\n",
    "    return predicted_yield[0]\n",
    "\n",
    "Year = 1990\n",
    "average_rain_fall_mm_per_year =1485.0\n",
    "pesticides_tonnes = 121.00\n",
    "avg_temp = 16.37                   \n",
    "Area = 'Albania'\n",
    "Item = 'Maize'\n",
    "result = prediction(Year, average_rain_fall_mm_per_year, pesticides_tonnes, avg_temp, Area, Item)\n"
   ]
  },
  {
   "cell_type": "code",
   "execution_count": 38,
   "id": "bd44a350",
   "metadata": {},
   "outputs": [
    {
     "data": {
      "text/plain": [
       "array([36613.])"
      ]
     },
     "execution_count": 38,
     "metadata": {},
     "output_type": "execute_result"
    }
   ],
   "source": [
    "result"
   ]
  },
  {
   "cell_type": "code",
   "execution_count": 39,
   "id": "ae54259f",
   "metadata": {},
   "outputs": [],
   "source": [
    "# 1990\t1485.0\t121.00\t16.37\tAlbania\tMaize\t36613\n",
    "# 2013\t657.0\t2550.07\t19.76\tZimbabwe\tSorghum\t3066"
   ]
  },
  {
   "cell_type": "code",
   "execution_count": 40,
   "id": "6f70f622",
   "metadata": {},
   "outputs": [],
   "source": [
    "import pickle\n",
    "pickle.dump(dtr,open('dtr.pkl','wb'))\n",
    "pickle.dump(preprocesser,open('preprocessor.pkl','wb'))"
   ]
  },
  {
   "cell_type": "code",
   "execution_count": 41,
   "id": "9138dd22",
   "metadata": {},
   "outputs": [],
   "source": [
    "pickle.dump(dtr,open('dtr.pkl','wb'))\n",
    "pickle.dump(preprocesser,open('preprocessor.pkl','wb'))"
   ]
  },
  {
   "cell_type": "code",
   "execution_count": 42,
   "id": "fe873a11",
   "metadata": {},
   "outputs": [
    {
     "name": "stdout",
     "output_type": "stream",
     "text": [
      "1.7.2\n"
     ]
    }
   ],
   "source": [
    "import sklearn\n",
    "print(sklearn.__version__)"
   ]
  },
  {
   "cell_type": "code",
   "execution_count": null,
   "id": "09e3ad91",
   "metadata": {},
   "outputs": [],
   "source": []
  },
  {
   "cell_type": "code",
   "execution_count": null,
   "id": "6dd1f6fc",
   "metadata": {},
   "outputs": [],
   "source": []
  },
  {
   "cell_type": "code",
   "execution_count": null,
   "id": "25394142",
   "metadata": {},
   "outputs": [],
   "source": []
  },
  {
   "cell_type": "code",
   "execution_count": null,
   "id": "be474b7c",
   "metadata": {},
   "outputs": [],
   "source": []
  },
  {
   "cell_type": "code",
   "execution_count": null,
   "id": "218c1e56",
   "metadata": {},
   "outputs": [],
   "source": []
  }
 ],
 "metadata": {
  "kernelspec": {
   "display_name": "myenv",
   "language": "python",
   "name": "python3"
  },
  "language_info": {
   "codemirror_mode": {
    "name": "ipython",
    "version": 3
   },
   "file_extension": ".py",
   "mimetype": "text/x-python",
   "name": "python",
   "nbconvert_exporter": "python",
   "pygments_lexer": "ipython3",
   "version": "3.11.10"
  }
 },
 "nbformat": 4,
 "nbformat_minor": 5
}
